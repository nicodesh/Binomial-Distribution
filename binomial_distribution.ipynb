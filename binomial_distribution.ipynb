{
 "cells": [
  {
   "cell_type": "code",
   "execution_count": 3,
   "metadata": {},
   "outputs": [
    {
     "name": "stdout",
     "output_type": "stream",
     "text": [
      "a : 0\n",
      "b : 5\n",
      "       k          prob    cumsum\n",
      "0    0.0  5.631351e-02  0.056314\n",
      "1    1.0  1.877117e-01  0.244025\n",
      "2    2.0  2.815676e-01  0.525593\n",
      "3    3.0  2.502823e-01  0.775875\n",
      "4    4.0  1.459980e-01  0.921873\n",
      "5    5.0  5.839920e-02  0.980272\n",
      "6    6.0  1.622200e-02  0.996494\n",
      "7    7.0  3.089905e-03  0.999584\n",
      "8    8.0  3.862381e-04  0.999970\n",
      "9    9.0  2.861023e-05  0.999999\n",
      "10  10.0  9.536743e-07  1.000000\n"
     ]
    },
    {
     "data": {
      "image/png": "[encoded data removed]",
      "text/plain": [
       "<matplotlib.figure.Figure at 0x108ae6eb8>"
      ]
     },
     "metadata": {},
     "output_type": "display_data"
    }
   ],
   "source": [
    "import pandas as pd\n",
    "import scipy.special\n",
    "import matplotlib.pyplot as plt\n",
    "%matplotlib inline\n",
    "\n",
    "def binomial_distribution(n, p,):\n",
    "    \"\"\" Display the binomial distribution depending on the parameters n and p.\n",
    "        Display a dataframe and a bar chart.\n",
    "        Display the minimum and the maximum value of the confidence interval (0.025 / 0.975)\n",
    "    \"\"\"\n",
    "    df = pd.DataFrame(columns=['k', 'prob', 'cumsum'])\n",
    "\n",
    "    cumsum = 0\n",
    "    a = {}\n",
    "    b = {}\n",
    "    a['search'] = True\n",
    "    a['value'] = 0\n",
    "    b['search'] = True\n",
    "    b['value'] = 0\n",
    "\n",
    "    for k in range(0,n+1):\n",
    "        binom = scipy.special.binom(n, k)\n",
    "        prob = binom * p**k * (1-p)**(n-k)\n",
    "        cumsum += prob\n",
    "\n",
    "        df = df.append({'k':k, 'prob':prob, 'cumsum':cumsum}, ignore_index=True)\n",
    "\n",
    "        if cumsum > 0.025 and a['search']:\n",
    "            a['value'] = k\n",
    "            a['search'] = False\n",
    "\n",
    "        if cumsum >= 0.975 and b['search']:\n",
    "            b['value'] = k\n",
    "            b['search'] = False\n",
    "\n",
    "    print(\"a : {}\".format(a['value']))\n",
    "    print(\"b : {}\".format(b['value']))\n",
    "    print(df)\n",
    "    plot = plt.bar(df['k'], df['prob'])\n",
    "\n",
    "# Example\n",
    "binomial_distribution(10,0.25)"
   ]
  },
  {
   "cell_type": "code",
   "execution_count": null,
   "metadata": {},
   "outputs": [],
   "source": []
  }
 ],
 "metadata": {
  "kernelspec": {
   "display_name": "Python 3",
   "language": "python",
   "name": "python3"
  },
  "language_info": {
   "codemirror_mode": {
    "name": "ipython",
    "version": 3
   },
   "file_extension": ".py",
   "mimetype": "text/x-python",
   "name": "python",
   "nbconvert_exporter": "python",
   "pygments_lexer": "ipython3",
   "version": "3.6.5"
  }
 },
 "nbformat": 4,
 "nbformat_minor": 2
}
